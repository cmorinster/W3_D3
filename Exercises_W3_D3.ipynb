{
 "cells": [
  {
   "cell_type": "code",
   "execution_count": 1,
   "id": "9b44df6e",
   "metadata": {},
   "outputs": [
    {
     "name": "stdout",
     "output_type": "stream",
     "text": [
      "Mewtwo weighs 1220 and has a height of 20\n"
     ]
    }
   ],
   "source": [
    "import requests\n",
    "class PokemonAPI():\n",
    "    def __init__(self):\n",
    "        self.base_url = 'https://pokeapi.co/api/v2/'\n",
    "    def __get(self, catergory, pokemon):\n",
    "        request_url = f\"{self.base_url}{catergory}/{pokemon}\"\n",
    "        pokemon_query = requests.get(request_url)\n",
    "        if pokemon_query.ok:\n",
    "            return pokemon_query.json()\n",
    "        else:\n",
    "            print('There was an error!')\n",
    "            \n",
    "    def get_height_weight(self, pokemon):\n",
    "        pokemon_data = self.__get(\"pokemon\", pokemon)\n",
    "        if pokemon_data:\n",
    "            pokemon_name = pokemon_data[\"name\"]\n",
    "            pokemon_weight = pokemon_data[\"weight\"]\n",
    "            pokemon_height = pokemon_data[\"height\"]\n",
    "            print(f\"{pokemon_name.capitalize()} weighs {pokemon_weight} and has a height of {pokemon_height}\")\n",
    "        \n",
    "pokemon1 = PokemonAPI()\n",
    "pokemon1.get_height_weight(\"mewtwo\")"
   ]
  },
  {
   "cell_type": "code",
   "execution_count": null,
   "id": "31ba1485",
   "metadata": {},
   "outputs": [],
   "source": []
  }
 ],
 "metadata": {
  "kernelspec": {
   "display_name": "Python 3 (ipykernel)",
   "language": "python",
   "name": "python3"
  },
  "language_info": {
   "codemirror_mode": {
    "name": "ipython",
    "version": 3
   },
   "file_extension": ".py",
   "mimetype": "text/x-python",
   "name": "python",
   "nbconvert_exporter": "python",
   "pygments_lexer": "ipython3",
   "version": "3.9.13"
  }
 },
 "nbformat": 4,
 "nbformat_minor": 5
}
